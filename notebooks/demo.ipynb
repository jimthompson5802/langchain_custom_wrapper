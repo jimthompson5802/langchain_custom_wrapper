{
 "cells": [
  {
   "cell_type": "markdown",
   "id": "3a6e99e4",
   "metadata": {},
   "source": [
    "# Demonstration of the `FastAPIChatOpenAI` class\n",
    "\n"
   ]
  },
  {
   "cell_type": "markdown",
   "id": "8167f7f9",
   "metadata": {},
   "source": [
    "## Baseline using standard `langchain` `ChatOpenAI` class\n",
    "\n",
    "![](../images/baseline.drawio.png)\n"
   ]
  },
  {
   "cell_type": "code",
   "execution_count": 1,
   "id": "386af0aa",
   "metadata": {},
   "outputs": [
    {
     "name": "stdout",
     "output_type": "stream",
     "text": [
      "\n",
      "Sending prompt: 'What is the capital of Hawaii?'\n",
      "\n",
      "--- Response ---\n",
      "Content: Honolulu\n",
      "\n",
      "--- Metadata ---\n",
      "refusal: None\n",
      "\n",
      "--- Usage Statistics ---\n",
      "completion_tokens: 3\n",
      "prompt_tokens: 14\n",
      "total_tokens: 17\n",
      "completion_tokens_details: {'accepted_prediction_tokens': 0, 'audio_tokens': 0, 'reasoning_tokens': 0, 'rejected_prediction_tokens': 0}\n",
      "prompt_tokens_details: {'audio_tokens': 0, 'cached_tokens': 0}\n",
      "\n",
      "--- Model Info ---\n",
      "Model: gpt-3.5-turbo\n",
      "Temperature: 0.7\n"
     ]
    }
   ],
   "source": [
    "from langchain_openai import ChatOpenAI\n",
    "from langchain.schema import HumanMessage\n",
    "\n",
    "\n",
    "\n",
    "# Initialize the LLM\n",
    "llm = ChatOpenAI(\n",
    "    model=\"gpt-3.5-turbo\",\n",
    "    temperature=0.7,\n",
    ")\n",
    "\n",
    "# Create a prompt\n",
    "prompt = \"What is the capital of Hawaii?\"\n",
    "messages = [HumanMessage(content=prompt)]\n",
    "\n",
    "# Get the response\n",
    "print(f\"\\nSending prompt: '{prompt}'\")\n",
    "response = llm.invoke(messages)\n",
    "\n",
    "# Display the response with metadata\n",
    "print(\"\\n--- Response ---\")\n",
    "print(f\"Content: {response.content}\")\n",
    "print(\"\\n--- Metadata ---\")\n",
    "for key, value in response.additional_kwargs.items():\n",
    "    print(f\"{key}: {value}\")\n",
    "\n",
    "# If you want to access token usage info (if available)\n",
    "if hasattr(response, \"response_metadata\") and response.response_metadata:\n",
    "    print(\"\\n--- Usage Statistics ---\")\n",
    "    if \"token_usage\" in response.response_metadata:\n",
    "        token_usage = response.response_metadata[\"token_usage\"]\n",
    "        for k, v in token_usage.items():\n",
    "            print(f\"{k}: {v}\")\n",
    "\n",
    "print(\"\\n--- Model Info ---\")\n",
    "print(f\"Model: {llm.model_name}\")\n",
    "print(f\"Temperature: {llm.temperature}\")\n"
   ]
  },
  {
   "cell_type": "markdown",
   "id": "0618d14b",
   "metadata": {},
   "source": [
    "## Using standard `FastAPIChatOpenAI` class\n",
    "\n",
    "![](../images/custom.drawio.png)\n",
    "\n",
    "### Start Redis Server and `langchain` wrapper server\n",
    "\n",
    "In one terminal, start the Redis server:\n",
    "```bash\n",
    "# start Redis server (if not already running)\n",
    "/opt/homebrew/bin/redis-server \n",
    "```\n",
    "\n",
    "In another terminal, start the FastAPI `langchain` server:\n",
    "```bash\n",
    "cd ~/Desktop/genai/langchain_wrapper\n",
    "python src/wrapper/langchain_server.py\n",
    "```"
   ]
  },
  {
   "cell_type": "code",
   "execution_count": 2,
   "id": "d2d6a0b9",
   "metadata": {},
   "outputs": [
    {
     "name": "stdout",
     "output_type": "stream",
     "text": [
      "Updated sys.path: ['/opt/homebrew/Cellar/python@3.11/3.11.12/Frameworks/Python.framework/Versions/3.11/lib/python311.zip', '/opt/homebrew/Cellar/python@3.11/3.11.12/Frameworks/Python.framework/Versions/3.11/lib/python3.11', '/opt/homebrew/Cellar/python@3.11/3.11.12/Frameworks/Python.framework/Versions/3.11/lib/python3.11/lib-dynload', '', '/Users/jim/Desktop/genai/langchain_wrapper/venv/lib/python3.11/site-packages', '/Users/jim/Desktop/genai/langchain_wrapper']\n"
     ]
    }
   ],
   "source": [
    "import os\n",
    "import sys\n",
    "\n",
    "# Add the project root to Python path\n",
    "project_root = os.path.abspath(os.path.join(os.getcwd(), \"..\"))\n",
    "if project_root not in sys.path:\n",
    "    sys.path.append(project_root)\n",
    "\n",
    "\n",
    "print(f\"Updated sys.path: {sys.path}\")"
   ]
  },
  {
   "cell_type": "code",
   "execution_count": 3,
   "id": "325b858e",
   "metadata": {},
   "outputs": [
    {
     "name": "stdout",
     "output_type": "stream",
     "text": [
      "\n",
      "Sending prompt: 'What is the capital of Hawaii?'\n",
      "\n",
      "--- Response ---\n",
      "Content: The capital of Hawaii is Honolulu.\n",
      "\n",
      "--- Metadata ---\n",
      "refusal: None\n",
      "\n",
      "--- Usage Statistics ---\n",
      "prompt_tokens: 14\n",
      "completion_tokens: 8\n",
      "total_tokens: 22\n",
      "\n",
      "--- Model Info ---\n",
      "Model: gpt-3.5-turbo\n",
      "Temperature: 0.7\n"
     ]
    }
   ],
   "source": [
    "from src.wrapper.fastapi_chat import FastAPIChatOpenAI, HumanMessage\n",
    "\n",
    "# Initialize the LLM\n",
    "llm = FastAPIChatOpenAI(\n",
    "    model=\"gpt-3.5-turbo\",\n",
    "    temperature=0.7,\n",
    ")\n",
    "\n",
    "# Create a promptcl\n",
    "prompt = \"What is the capital of Hawaii?\"\n",
    "messages = [HumanMessage(content=prompt)]\n",
    "\n",
    "# Get the response\n",
    "print(f\"\\nSending prompt: '{prompt}'\")\n",
    "response = llm.invoke(messages)\n",
    "\n",
    "# Display the response with metadata\n",
    "print(\"\\n--- Response ---\")\n",
    "print(f\"Content: {response.content}\")\n",
    "print(\"\\n--- Metadata ---\")\n",
    "for key, value in response.additional_kwargs.items():\n",
    "    print(f\"{key}: {value}\")\n",
    "\n",
    "# If you want to access token usage info (if available)\n",
    "if hasattr(response, \"response_metadata\") and response.response_metadata:\n",
    "    print(\"\\n--- Usage Statistics ---\")\n",
    "    if \"token_usage\" in response.response_metadata:\n",
    "        token_usage = response.response_metadata[\"token_usage\"]\n",
    "        for k, v in token_usage.items():\n",
    "            print(f\"{k}: {v}\")\n",
    "\n",
    "print(\"\\n--- Model Info ---\")\n",
    "print(f\"Model: {llm.model_name}\")\n",
    "print(f\"Temperature: {llm.temperature}\")\n"
   ]
  }
 ],
 "metadata": {
  "kernelspec": {
   "display_name": "venv",
   "language": "python",
   "name": "python3"
  },
  "language_info": {
   "codemirror_mode": {
    "name": "ipython",
    "version": 3
   },
   "file_extension": ".py",
   "mimetype": "text/x-python",
   "name": "python",
   "nbconvert_exporter": "python",
   "pygments_lexer": "ipython3",
   "version": "3.11.12"
  }
 },
 "nbformat": 4,
 "nbformat_minor": 5
}
